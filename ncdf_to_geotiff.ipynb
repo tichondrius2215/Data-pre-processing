{
 "cells": [
  {
   "cell_type": "markdown",
   "metadata": {},
   "source": [
    "# Convert netcdf data to GeoTiff and cropping the area of interests. \n",
    "# Extract pixel data to pandas data frame for selected locations."
   ]
  },
  {
   "cell_type": "code",
   "execution_count": null,
   "metadata": {},
   "outputs": [],
   "source": [
    "import netCDF4 as nc\n",
    "import matplotlib.pyplot as plt\n",
    "import rasterio as rio\n",
    "import numpy as np\n",
    "import matplotlib.image as mpimg\n",
    "import xarray as xr\n",
    "import os\n",
    "import pandas as pd\n",
    "import datetime"
   ]
  },
  {
   "cell_type": "code",
   "execution_count": null,
   "metadata": {},
   "outputs": [],
   "source": [
    "# read netcdf files.  Change year here\n",
    "fpath = \"/home/user/project/data/\"\n",
    "pattern = '*.nc'\n",
    "\n",
    "eflist = []\n",
    "\n",
    "for root, dirs, files in os.walk(fpath):\n",
    "    for name in files:\n",
    "        eflist.append(os.path.join(fpath,name))\n",
    "        "
   ]
  },
  {
   "cell_type": "code",
   "execution_count": null,
   "metadata": {},
   "outputs": [],
   "source": [
    "det = nc.Dataset(eflist[1])\n",
    "print(det)"
   ]
  },
  {
   "cell_type": "code",
   "execution_count": null,
   "metadata": {},
   "outputs": [],
   "source": [
    "#for val in det.variables.values():\n",
    " #   print(val)"
   ]
  },
  {
   "cell_type": "code",
   "execution_count": null,
   "metadata": {},
   "outputs": [],
   "source": [
    "det['time']"
   ]
  },
  {
   "cell_type": "code",
   "execution_count": null,
   "metadata": {},
   "outputs": [],
   "source": [
    "tm = eflist[0].split('/')\n",
    "tt = str(tm[6]).split('_')\n",
    "tf = str(tt[3]).split('.')\n",
    "#td = str(tf[3]).split('.')\n",
    "tf\n"
   ]
  },
  {
   "cell_type": "code",
   "execution_count": null,
   "metadata": {},
   "outputs": [],
   "source": [
    "eflist[1]"
   ]
  },
  {
   "cell_type": "code",
   "execution_count": null,
   "metadata": {},
   "outputs": [],
   "source": [
    "# array to gtiff function. Change year here\n",
    "x = -180\n",
    "y = -90\n",
    "res = 0.05\n",
    "from rasterio.transform import Affine, from_origin \n",
    "transform = from_origin(-180,90, 0.05, 0.05)\n",
    "#transform = Affine.translation(x - (res / 2), y - (res / 2)) * Affine.scale(res, res)\n",
    "time = 'time'\n",
    "var = 'bleaching_alert_area'\n",
    "\n",
    "\n",
    "fpath = '/home/user/project/tiff/'\n",
    "fname = 'crw_'\n",
    "extname = '.tiff'\n",
    "\n",
    "\n",
    "\n",
    "def array_to_gtiff(flist):\n",
    "    for i in flist:\n",
    "        dst = nc.Dataset(i)\n",
    "        ds_sst = dst[var]\n",
    "        ds_ar = np.array(ds_sst)\n",
    "        #ds_ar = np.flipud(ds_ar)\n",
    "        #ds_ar = np.flip(ds_ar)\n",
    "        #ds_ar = np.fliplr(ds_ar)\n",
    "        \n",
    "        # time in seconds\n",
    "        tdm = int(dst['time'][0])\n",
    "        tdt = tdm + 3.469e+8 + 259200\n",
    "        dt = datetime.datetime.fromtimestamp(tdt).strftime('%d-%m-%Y')\n",
    "            #date_time.append(dt)\n",
    "        \n",
    "        #print(dt)\n",
    "        \n",
    "        \n",
    "        temp = str(i).split('/')\n",
    "        temp = str(temp[6]).split('_')\n",
    "        temp = str(temp[3]).split('.')\n",
    "        temp = str(temp[0])\n",
    "\n",
    "        \n",
    "        tname = fpath + fname + temp + extname\n",
    "        \n",
    "        tif_test = rio.open(tname, \n",
    "            'w',\n",
    "            driver = 'GTiff',            \n",
    "            height=3600,\n",
    "            width=7200,\n",
    "            dtype='int8',\n",
    "            count = 1,\n",
    "            crs=\"EPSG:4326\",\n",
    "            transform=transform)\n",
    "    \n",
    "        tif_test.write(ds_ar)\n",
    "        tif_test.close()\n",
    "        dst.close()"
   ]
  },
  {
   "cell_type": "code",
   "execution_count": null,
   "metadata": {},
   "outputs": [],
   "source": [
    "array_to_gtiff(eflist)\n"
   ]
  },
  {
   "cell_type": "code",
   "execution_count": null,
   "metadata": {},
   "outputs": [],
   "source": [
    "# chage year here\n",
    "\n",
    "from rasterio.plot import show\n",
    "import fiona\n",
    "import rasterio.mask \n",
    "\n",
    "fpath = \"/home/user/project/tifs/\"\n",
    "pattern = '*.tiff'\n",
    "\n",
    "gtflist = []\n",
    "\n",
    "for root, dirs, files in os.walk(fpath):\n",
    "    for name in files:\n",
    "        gtflist.append(os.path.join(fpath,name))\n",
    "\n",
    "                \n",
    "with fiona.open(\"/home/user/project/vector_data/aoi_polygon.shp\") as shapefile:                \n",
    "    shapes = [feature[\"geometry\"]for feature in shapefile]\n",
    "\n",
    "#out_image, out_transform = rasterio.mask.mask(testrs, shapes, crop = True)\n"
   ]
  },
  {
   "cell_type": "code",
   "execution_count": null,
   "metadata": {},
   "outputs": [],
   "source": [
    "# change year here\n",
    "tpath = '/home/user/project/tifs_clipped/'\n",
    "\n",
    "\n",
    "def gtif_crop(my_list):\n",
    "    \n",
    "    templist = []\n",
    "    \n",
    "    for i in my_list:\n",
    "        \n",
    "        tid = str(i)\n",
    "        tid = tid.split('/')\n",
    "        tid = str(tid[6])\n",
    "        #print(tid)\n",
    "        \n",
    "                \n",
    "        tfname = tpath + tid\n",
    "        \n",
    "        src0 =  rasterio.open(i,'r') \n",
    "        meta = src0.meta\n",
    "            \n",
    "        out_image,out_transform = rasterio.mask.mask(src0, shapes, crop = True)\n",
    "        \n",
    "        out_meta = src0.meta\n",
    "        \n",
    "        out_meta.update({\"driver\": \"GTiff\",\n",
    "                 \"height\": out_image.shape[1],\n",
    "                 \"width\": out_image.shape[2],\n",
    "                 \"transform\": out_transform})\n",
    "        \n",
    "        clipped = rio.open(tfname,\n",
    "                  'w',\n",
    "                   **out_meta)\n",
    "        \n",
    "        clipped.write(out_image)\n",
    "        clipped.close()\n",
    "        \n",
    "    "
   ]
  },
  {
   "cell_type": "code",
   "execution_count": null,
   "metadata": {},
   "outputs": [],
   "source": [
    "gtif_crop(gtflist)"
   ]
  },
  {
   "cell_type": "code",
   "execution_count": null,
   "metadata": {},
   "outputs": [],
   "source": [
    "tf = clp_flist[1]\n",
    "tf1 = str(tf).split('/')\n",
    "tf2 = str(tf1[8]).split('.')\n",
    "tf3 = str(tf2[0]).split('_')[1]\n",
    "tf3\n",
    "#"
   ]
  },
  {
   "cell_type": "markdown",
   "metadata": {},
   "source": [
    "# Extracting pixel values "
   ]
  },
  {
   "cell_type": "code",
   "execution_count": null,
   "metadata": {},
   "outputs": [],
   "source": [
    "# change year here\n",
    "\n",
    "import rasterio\n",
    "import geopandas as gpd\n",
    "import os\n",
    "\n",
    "# make list of rasters \n",
    "clpath = '/home/user/project/tifs_clipped/'\n",
    "pattern = '*.tiff'\n",
    "\n",
    "clp_flist = []\n",
    "\n",
    "for root, dirs, files in os.walk(clpath):\n",
    "    for name in files:\n",
    "        clp_flist.append(os.path.join(clpath,name))\n",
    "\n",
    "# Read points from shapefile\n",
    "pts = gpd.read_file('/home/user/project/vector_Data/monitoring_stations.shp')\n",
    "\n",
    "pts = pts[['Name', 'LON', 'LAT', 'geometry']]\n",
    "pts.index = range(len(pts))\n",
    "coords = [(x,y) for x, y in zip(pts.LON, pts.LAT)]\n",
    "\n",
    "date_time = []\n",
    "\n",
    "for i in clp_flist:\n",
    "    mid = str(i).split('/')\n",
    "    mid = str(mid[8]).split('.')    \n",
    "    mid = str(mid[0]).split('_')[1]\n",
    "    \n",
    "    t_yr = mid[0:4]\n",
    "    t_mn = mid[4:6]\n",
    "    t_dy = mid[6:]\n",
    "    \n",
    "    t_dt_ = t_dy + '-' + t_mn + '-' + t_yr\n",
    "    date_time.append(t_dt_)\n",
    "    \n",
    "    # Open the raster and store metadata\n",
    "\n",
    "    src = rio.open(i) \n",
    "    \n",
    "    \n",
    "    # Sample the raster at every point location and store values in DataFrame\n",
    "    pts[mid] = [x for x in src.sample(coords)]\n",
    "    pts[mid] = pts.apply(lambda x: x[mid][0], axis=1)\n",
    "    \n",
    "    src.close() "
   ]
  },
  {
   "cell_type": "code",
   "execution_count": null,
   "metadata": {},
   "outputs": [],
   "source": [
    "pts = pts.T\n",
    "pts"
   ]
  },
  {
   "cell_type": "code",
   "execution_count": null,
   "metadata": {},
   "outputs": [],
   "source": [
    "#tlist = [0,0,0,0]\n",
    "#for i in range(len(tlist)):\n",
    "#    date_time.insert(i, tlist[i])\n",
    "#print(date_time)\n",
    "\n",
    "pts = pts.drop(pts.index[[1,2,3]])\n",
    "pts.columns = ['Clevelend Bay ','Agincourt Reef', 'Masig Reef', 'Square Rocks', 'Hardy Reef', 'Davies Reef', 'Heron Island', 'Lizard Island', 'Thursday']\n",
    "print(pts)"
   ]
  },
  {
   "cell_type": "code",
   "execution_count": null,
   "metadata": {},
   "outputs": [],
   "source": [
    "date_time.insert(0,0)\n",
    "pts['Date'] = date_time\n",
    "pts"
   ]
  },
  {
   "cell_type": "code",
   "execution_count": null,
   "metadata": {},
   "outputs": [],
   "source": [
    "# change year here\n",
    "pts.to_csv('/home/user/project/extrated/baa_2011.csv')"
   ]
  },
  {
   "cell_type": "code",
   "execution_count": null,
   "metadata": {},
   "outputs": [],
   "source": [
    "pts.shape"
   ]
  }
 ],
 "metadata": {
  "kernelspec": {
   "display_name": "Python 3",
   "language": "python",
   "name": "python3"
  },
  "language_info": {
   "codemirror_mode": {
    "name": "ipython",
    "version": 3
   },
   "file_extension": ".py",
   "mimetype": "text/x-python",
   "name": "python",
   "nbconvert_exporter": "python",
   "pygments_lexer": "ipython3",
   "version": "3.8.8"
  }
 },
 "nbformat": 4,
 "nbformat_minor": 4
}
